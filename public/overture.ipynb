{
  "cells": [
    {
      "cell_type": "markdown",
      "metadata": {
        "id": "Z5K7s21O1_tQ"
      },
      "source": [
        "# Spatial query of the Overture Buildings dataset with Fused\n",
        "\n",
        "\n",
        "Welcome! This Notebook designed to perform a spatial query on the Overture Buildings dataset.\n",
        "\n",
        "The original dataset is several hundred GB in size. The Fused User Defined Function (UDF) below fetches only the buildings that fall within the area of interest. This means you can use this code to simplify your workflows by loading only the fraction of data you care about.\n",
        "\n",
        "This User Defined Function (UDF) queries a geo partitioned version of the Overture Buildings Dataset, [hosted on Source Cooperative](https://beta.source.coop/repositories/fused/overture/), that corresponds to the area of an input GeoDataFrame. It returns a GeoDataFrame containing the subsampled data, which gets cached to the local environment for added speed. You can find the UDF code in the [public UDF GitHub repo](https://github.com/fusedio/udfs/tree/main/public/Overture_Maps_Example).\n",
        "\n",
        "Let's begin!"
      ]
    },
    {
      "cell_type": "code",
      "execution_count": null,
      "metadata": {
        "id": "ejugfC0D1_tR"
      },
      "outputs": [],
      "source": [
        "!pip install fused==1.4.0 pyarrow==12.0.1 fsspec==2023.12.2"
      ]
    },
    {
      "cell_type": "code",
      "execution_count": null,
      "metadata": {
        "id": "OCFhvdrUnftq"
      },
      "outputs": [],
      "source": [
        "# Enable ipyleaflet widgets on Colab, which require a specific ipywidgets version\n",
        "!pip install ipywidgets==7.7.1\n",
        "\n",
        "from google.colab import output\n",
        "output.enable_custom_widget_manager()\n",
        "\n",
        "import ipyleaflet\n",
        "import ipywidgets\n",
        "\n",
        "print(ipyleaflet.__version__) # Must be 0.18.2\n",
        "print(ipywidgets.__version__) # Must be 7.7.1"
      ]
    },
    {
      "cell_type": "code",
      "execution_count": null,
      "metadata": {
        "id": "cnYF0Lr41_tR"
      },
      "outputs": [],
      "source": [
        "import geopandas as gpd\n",
        "from shapely.geometry import shape\n",
        "import fused\n",
        "\n",
        "\n",
        "# Create a map centered at the given location\n",
        "MAP_LOCATION = (37.7749, -122.4194)"
      ]
    },
    {
      "cell_type": "code",
      "execution_count": null,
      "metadata": {
        "id": "PwpST7i81_tS"
      },
      "outputs": [],
      "source": [
        "from ipyleaflet import DrawControl, GeoData, Map, basemap_to_tiles, basemaps\n",
        "\n",
        "m = Map(\n",
        "    layers=(basemap_to_tiles(basemaps.OpenStreetMap.Mapnik),),\n",
        "    center=MAP_LOCATION,\n",
        "    zoom=13,\n",
        ")\n",
        "\n",
        "def on_draw(self, action, geo_json):\n",
        "    # Utility to clear map\n",
        "    if action == 'deleted':\n",
        "        existing_layers = [l for l in m.layers if isinstance(l, GeoData)]\n",
        "        if existing_layers:\n",
        "            print('Clearing')\n",
        "            for l in existing_layers:\n",
        "                m.remove(l)\n",
        "        return\n",
        "    print(\"Running...\")\n",
        "\n",
        "    # GeoDataFrame from drawn shape\n",
        "    gdf = gpd.GeoDataFrame(index=[0], crs=\"epsg:4326\", geometry=[shape(geo_json.get(\"geometry\"))])\n",
        "\n",
        "    # Run public UDF, identified by a signed token\n",
        "    gdf_buildings = fused.core.run_shared_file(token='2d3dac3bd2ee5318a0d887929193e83917a9a24ba99a3affae54132437ac79fb', bbox=gdf.to_json())\n",
        "\n",
        "    # For running locally:\n",
        "    # udf = fused.load(\n",
        "    #     \"https://github.com/fusedio/udfs/tree/fc5b446/public/Overture_Maps_Example\"\n",
        "    # )\n",
        "    # gdf_buildings = udf.run_local(bbox=gdf)\n",
        "\n",
        "    # Render polygons on map\n",
        "    m.add(GeoData(geo_dataframe=gdf_buildings))\n",
        "    print(\"Done!\")\n",
        "\n",
        "draw_control = DrawControl()\n",
        "draw_control.on_draw(on_draw)\n",
        "draw_control.polygon = {\n",
        "    \"shapeOptions\": {\"color\": \"red\", \"fillOpacity\": 0.0},\n",
        "    \"drawError\": {\"color\": \"#dd253b\", \"message\": \"Oups!\"},\n",
        "    \"allowIntersection\": False,\n",
        "}\n",
        "\n",
        "draw_control.rectangle = {\"shapeOptions\": {\"color\": \"red\", \"fillOpacity\": 0.0}}\n",
        "m.add(draw_control)\n",
        "m"
      ]
    },
    {
      "cell_type": "code",
      "source": [],
      "metadata": {
        "id": "Hvwk3qNctvUL"
      },
      "execution_count": null,
      "outputs": []
    }
  ],
  "metadata": {
    "colab": {
      "provenance": []
    },
    "kernelspec": {
      "display_name": ".venv",
      "language": "python",
      "name": "python3"
    },
    "language_info": {
      "codemirror_mode": {
        "name": "ipython",
        "version": 3
      },
      "file_extension": ".py",
      "mimetype": "text/x-python",
      "name": "python",
      "nbconvert_exporter": "python",
      "pygments_lexer": "ipython3",
      "version": "3.11.7"
    }
  },
  "nbformat": 4,
  "nbformat_minor": 0
}
