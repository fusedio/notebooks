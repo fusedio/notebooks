{
 "cells": [
  {
   "cell_type": "markdown",
   "metadata": {},
   "source": [
    "# Overture Buildings\n",
    "\n",
    "\n",
    "Welcome! This Notebook designed to perform a spatial query on the Overture Buildings dataset. \n",
    "\n",
    "The original dataset is several GB in size. The Fused User Defined Function (UDF) below fetches only the buildings that fall within the area of interest. This means you can use this code to simplify your workflows by loading only the fraction of data you care about.\n",
    "\n",
    "\n",
    "<img src=\"https://fused-magic.s3.us-west-2.amazonaws.com/docs_assets/overture_spatial_query.png\" alt=\"overture\" width=\"600\"/></a>\n",
    "\n",
    "\n",
    "The Notebook shows how to:\n",
    "\n",
    "1. Define an area of interest by drawing a polygon on a Leaflet map\n",
    "2. Perform a spatial query over the dataset with a UDF\n",
    "3. View the output on a map\n",
    "\n",
    "It shows examples for using both `ipyleaflet` and `geemap`.\n",
    "\n",
    "Let's begin!"
   ]
  },
  {
   "cell_type": "code",
   "execution_count": null,
   "metadata": {},
   "outputs": [],
   "source": [
    "# Uncomment this line to install packages if needed\n",
    "!pip3 install fused ipyleaflet geopandas"
   ]
  },
  {
   "cell_type": "markdown",
   "metadata": {},
   "source": [
    "# 1. Load Fused UDF\n",
    "\n",
    "This User Defined Function (UDF) queries a geo partitioned version of the Overture Buildings Dataset (hosted on an S3 bucket) that corresponds to the area of an input GeoDataFrame. It returns a GeoDataFrame containing the subsampled data, which gets cached to the local environment for added speed."
   ]
  },
  {
   "cell_type": "code",
   "execution_count": null,
   "metadata": {},
   "outputs": [],
   "source": [
    "import geopandas as gpd\n",
    "from shapely.geometry import shape\n",
    "\n",
    "import fused\n",
    "\n",
    "# Create a map centered at the given location\n",
    "MAP_LOCATION = (37.7749, -122.4194)"
   ]
  },
  {
   "cell_type": "code",
   "execution_count": null,
   "metadata": {},
   "outputs": [],
   "source": [
    "udf = fused.load(\n",
    "    \"https://github.com/fusedio/udfs/tree/0905bef/public/Overture_Maps_Example\"\n",
    ")"
   ]
  },
  {
   "cell_type": "markdown",
   "metadata": {},
   "source": [
    "# 2. Draw polygon to query buildings"
   ]
  },
  {
   "cell_type": "markdown",
   "metadata": {},
   "source": [
    "## ipyleaflet\n",
    "\n",
    "Draw a polygon around the AOI and on the map and wait for building polygons to load.\n",
    "\n",
    "Note: the workflow is designed to work with a single polygon."
   ]
  },
  {
   "cell_type": "code",
   "execution_count": null,
   "metadata": {},
   "outputs": [],
   "source": [
    "from ipyleaflet import DrawControl, GeoData, Map, basemap_to_tiles, basemaps\n",
    "\n",
    "m = Map(\n",
    "    layers=(basemap_to_tiles(basemaps.OpenStreetMap.Mapnik),),\n",
    "    center=MAP_LOCATION,\n",
    "    zoom=13,\n",
    ")\n",
    "\n",
    "\n",
    "def on_draw(self, action, geo_json):\n",
    "    print(\"Running...\")\n",
    "    gdf = gpd.GeoDataFrame(\n",
    "        index=[0], crs=\"epsg:4326\", geometry=[shape(geo_json.get(\"geometry\"))]\n",
    "    )\n",
    "    gdf_buildings = udf(bbox=gdf).run_local()\n",
    "    m.add(GeoData(geo_dataframe=gdf_buildings))\n",
    "    print(\"Done!\")\n",
    "\n",
    "\n",
    "draw_control = DrawControl()\n",
    "draw_control.on_draw(on_draw)\n",
    "draw_control.polygon = {\n",
    "    \"shapeOptions\": {\"color\": \"red\", \"fillOpacity\": 0.0},\n",
    "    \"drawError\": {\"color\": \"#dd253b\", \"message\": \"Oups!\"},\n",
    "    \"allowIntersection\": False,\n",
    "}\n",
    "\n",
    "draw_control.rectangle = {\"shapeOptions\": {\"color\": \"red\", \"fillOpacity\": 0.0}}\n",
    "\n",
    "m.add(draw_control)"
   ]
  },
  {
   "cell_type": "code",
   "execution_count": null,
   "metadata": {},
   "outputs": [],
   "source": []
  }
 ],
 "metadata": {
  "kernelspec": {
   "display_name": ".venv",
   "language": "python",
   "name": "python3"
  },
  "language_info": {
   "codemirror_mode": {
    "name": "ipython",
    "version": 3
   },
   "file_extension": ".py",
   "mimetype": "text/x-python",
   "name": "python",
   "nbconvert_exporter": "python",
   "pygments_lexer": "ipython3",
   "version": "3.11.7"
  }
 },
 "nbformat": 4,
 "nbformat_minor": 2
}
